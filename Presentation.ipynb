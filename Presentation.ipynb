{
 "cells": [
  {
   "cell_type": "markdown",
   "metadata": {},
   "source": [
    "- Basics of Probability Theory  \n",
    "    - Probability Theory  \n",
    "    - Frequentist Approach  \n",
    "    - Bayes Theorem  \n",
    "    - Bayesian Approach  \n",
    "    - Why is there need for bayesian approach  \n",
    "- Inference  \n",
    "    - A few standard distributions  \n",
    "    - Prior  \n",
    "    - Posterior  \n",
    "    - Examples  \n",
    "- Modelling  \n",
    "    - Learning parameters from the data  \n",
    "    - Decision Theory  \n",
    "    - Linear Regression example   \n",
    "    - Example of Naive Bayes  \n",
    "- Issues with Bayesian Modelling (If time permits)  \n",
    "    - Complexity Issues  \n",
    "    - Approximate methods   \n",
    "    - Sampling Methods  \n",
    "    - Introduction to Probabilistic Graphical Models  "
   ]
  },
  {
   "cell_type": "markdown",
   "metadata": {},
   "source": [
    "## Probability Theory"
   ]
  },
  {
   "cell_type": "markdown",
   "metadata": {},
   "source": [
    "Probability is the measure of the likeliness that an event will occur.  \n",
    "Probability theory is the branch of mathematics concerned with probability, the analysis of random phenomena.\n",
    "\n",
    "Show a normal example of some dice / cards"
   ]
  },
  {
   "cell_type": "markdown",
   "metadata": {},
   "source": [
    "Introduce with Boy or girl paradox (https://en.wikipedia.org/wiki/Boy_or_Girl_paradox) or Bertrand paradox (https://en.wikipedia.org/wiki/Bertrand_paradox_%28probability%29)\n",
    "Paradoxes in probability theory (https://en.wikipedia.org/wiki/Category:Probability_theory_paradoxes)\n",
    "\n",
    "More problems list (http://stats.stackexchange.com/questions/3104/what-is-your-favorite-problem-for-an-introduction-to-probability)\n",
    "\n",
    "MH370 articles: http://www.bbc.com/news/magazine-26680633\n",
    "http://www.news.com.au/travel/travel-updates/missing-malaysia-airlines-flight-mh370-search-goes-back-to-basics-turning-to-the-power-of-maths-to-solve-the-mystery/story-fnizu68q-1226941119783\n",
    "http://blogs.sas.com/content/subconsciousmusings/2014/04/02/how-bayesian-analysis-might-help-find-the-missing-malaysian-airplane/\n"
   ]
  },
  {
   "cell_type": "markdown",
   "metadata": {},
   "source": [
    "### Random Variables\n",
    "\n"
   ]
  },
  {
   "cell_type": "markdown",
   "metadata": {},
   "source": [
    "#### Discrete Random Variables"
   ]
  },
  {
   "cell_type": "markdown",
   "metadata": {},
   "source": [
    "#### Continuous Random Variables"
   ]
  },
  {
   "cell_type": "markdown",
   "metadata": {},
   "source": [
    "### Probability Distributions"
   ]
  },
  {
   "cell_type": "markdown",
   "metadata": {},
   "source": [
    "### Frequentist Approach"
   ]
  },
  {
   "cell_type": "markdown",
   "metadata": {},
   "source": [
    "#### Shortcomings of frequentist approach"
   ]
  },
  {
   "cell_type": "markdown",
   "metadata": {},
   "source": [
    "### Bayesian Approach\n",
    "Paradoxes: https://en.wikipedia.org/wiki/Raven_paradox\n",
    "https://en.wikipedia.org/wiki/Bertrand_paradox_%28probability%29\n"
   ]
  },
  {
   "cell_type": "markdown",
   "metadata": {},
   "source": [
    "#### Shortcomings of Bayesian approach\n",
    "The issue of prior"
   ]
  },
  {
   "cell_type": "markdown",
   "metadata": {},
   "source": [
    "### Differences Between bayesian and frequentist approaches"
   ]
  },
  {
   "cell_type": "markdown",
   "metadata": {
    "collapsed": true
   },
   "source": [
    "### Bayesian Statistics\n",
    "\n",
    "The essential characteristic of Bayesian Method is their explicit use of probabiltiy for quantifying uncertainity in inference based of statistical data analysis.\n",
    "\n",
    "The whole idea of Bayesian Statistics revolve around this formula:\n",
    "\n",
    "$$ P(\\theta | D) = \\frac{P(D | \\theta) * P(\\theta)}{ P(D)} $$\n",
    "\n",
    "In the case of Bayesian Statistics we assign probability to our parameters and don't settle for a single model as we do in the case of maximum likelihood. And then we can do whatever we want when we do the predictions. We can just use the model having maximum probability for the parameter or predict over all the models and do a weighted average based on the models.\n",
    "\n",
    "Show a practical example.\n",
    "\n",
    "But the problem that we face in the case of Bayesian Statistics is because of the huge integration to do to find the posterior distribution.\n",
    "\n",
    "For dealing with this problem we have diffent methods like sampling.\n"
   ]
  },
  {
   "cell_type": "markdown",
   "metadata": {},
   "source": [
    "Main steps in Bayesian Data Analysis:\n",
    "1. Setting up a full probability model.\n",
    "2. Conditioning on observed data.\n",
    "3. Evaluating a fit of the model and the implications of the resulting posterior distribution."
   ]
  },
  {
   "cell_type": "code",
   "execution_count": 38,
   "metadata": {
    "collapsed": true
   },
   "outputs": [],
   "source": [
    "from scipy.stats import beta\n",
    "prior = beta(1000, 1000)"
   ]
  },
  {
   "cell_type": "code",
   "execution_count": 39,
   "metadata": {
    "collapsed": false
   },
   "outputs": [
    {
     "data": {
      "text/plain": [
       "[<matplotlib.lines.Line2D at 0x7f3f1c05e908>]"
      ]
     },
     "execution_count": 39,
     "metadata": {},
     "output_type": "execute_result"
    },
    {
     "data": {
      "image/png": "[encoded data removed]",
      "text/plain": [
       "<matplotlib.figure.Figure at 0x7f3f0f75d630>"
      ]
     },
     "metadata": {},
     "output_type": "display_data"
    }
   ],
   "source": [
    "import matplotlib.pyplot as plt\n",
    "plt.plot(np.linspace(0, 1, 1000), prior.pdf(np.linspace(0, 1, 1000)), alpha=0.3, c='g')"
   ]
  },
  {
   "cell_type": "code",
   "execution_count": 4,
   "metadata": {
    "collapsed": true
   },
   "outputs": [],
   "source": [
    "%matplotlib inline"
   ]
  },
  {
   "cell_type": "code",
   "execution_count": 8,
   "metadata": {
    "collapsed": false
   },
   "outputs": [],
   "source": [
    "from __future__ import print_function\n",
    "from IPython.html.widgets import interact, interactive, fixed\n",
    "from IPython.html import widgets"
   ]
  },
  {
   "cell_type": "code",
   "execution_count": 25,
   "metadata": {
    "collapsed": true
   },
   "outputs": [],
   "source": [
    "from IPython.html.widgets import *"
   ]
  },
  {
   "cell_type": "code",
   "execution_count": 55,
   "metadata": {
    "collapsed": false
   },
   "outputs": [
    {
     "data": {
      "image/png": "[encoded data removed]",
      "text/plain": [
       "<matplotlib.figure.Figure at 0x7f3f0ecdbba8>"
      ]
     },
     "metadata": {},
     "output_type": "display_data"
    }
   ],
   "source": [
    "from scipy.stats import beta\n",
    "%matplotlib inline\n",
    "\n",
    "def plot(a, b):\n",
    "    y = beta(a, b).pdf(np.linspace(0, 1, 1000))\n",
    "    x = np.linspace(0, 1, 1000)\n",
    "    plt.plot(x, y, c='g')\n",
    "    plt.show()\n",
    "    \n",
    "\n",
    "interact(plot, a=(0, 1000), b=(0, 1000))"
   ]
  },
  {
   "cell_type": "markdown",
   "metadata": {
    "collapsed": false
   },
   "source": [
    "### Linear regression example using bayesian learning"
   ]
  },
  {
   "cell_type": "code",
   "execution_count": 61,
   "metadata": {
    "collapsed": false
   },
   "outputs": [
    {
     "data": {
      "text/plain": [
       "<matplotlib.collections.PathCollection at 0x7f3f0ed445f8>"
      ]
     },
     "execution_count": 61,
     "metadata": {},
     "output_type": "execute_result"
    },
    {
     "name": "stderr",
     "output_type": "stream",
     "text": [
      "/home/ankur/anaconda3/envs/scipy/lib/python3.4/site-packages/matplotlib/collections.py:590: FutureWarning: elementwise comparison failed; returning scalar instead, but in the future will perform elementwise comparison\n",
      "  if self._edgecolors == str('face'):\n"
     ]
    },
    {
     "data": {
      "image/png": "[encoded data removed]",
      "text/plain": [
       "<matplotlib.figure.Figure at 0x7f3f0eebcba8>"
      ]
     },
     "metadata": {},
     "output_type": "display_data"
    }
   ],
   "source": [
    "x = np.linspace(0, 10, 100)\n",
    "y = 0.4 * x + 0.6\n",
    "y_with_noise = y + np.random.randn(100)\n",
    "plt.scatter(x, y_with_noise, alpha=0.5, c='g')"
   ]
  },
  {
   "cell_type": "code",
   "execution_count": null,
   "metadata": {
    "collapsed": true
   },
   "outputs": [],
   "source": []
  }
 ],
 "metadata": {
  "kernelspec": {
   "display_name": "Python 3",
   "language": "python",
   "name": "python3"
  },
  "language_info": {
   "codemirror_mode": {
    "name": "ipython",
    "version": 3
   },
   "file_extension": ".py",
   "mimetype": "text/x-python",
   "name": "python",
   "nbconvert_exporter": "python",
   "pygments_lexer": "ipython3",
   "version": "3.4.3"
  }
 },
 "nbformat": 4,
 "nbformat_minor": 0
}
