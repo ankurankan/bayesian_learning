{
 "cells": [
  {
   "cell_type": "markdown",
   "metadata": {},
   "source": [
    "## Probability Theory"
   ]
  },
  {
   "cell_type": "markdown",
   "metadata": {},
   "source": [
    "Probability is the measure of the likeliness that an event will occur.  \n",
    "Probability theory is the branch of mathematics concerned with probability, the analysis of random phenomena.\n",
    "Introduce with Boy or girl paradox (https://en.wikipedia.org/wiki/Boy_or_Girl_paradox) or Bertrand paradox (https://en.wikipedia.org/wiki/Bertrand_paradox_%28probability%29)\n",
    "Paradoxes in probability theory (https://en.wikipedia.org/wiki/Category:Probability_theory_paradoxes)\n",
    "\n",
    "More problems list (http://stats.stackexchange.com/questions/3104/what-is-your-favorite-problem-for-an-introduction-to-probability)\n",
    "\n",
    "MH370 articles: http://www.bbc.com/news/magazine-26680633\n",
    "http://www.news.com.au/travel/travel-updates/missing-malaysia-airlines-flight-mh370-search-goes-back-to-basics-turning-to-the-power-of-maths-to-solve-the-mystery/story-fnizu68q-1226941119783\n",
    "http://blogs.sas.com/content/subconsciousmusings/2014/04/02/how-bayesian-analysis-might-help-find-the-missing-malaysian-airplane/\n"
   ]
  },
  {
   "cell_type": "markdown",
   "metadata": {},
   "source": [
    "### Random Variables"
   ]
  },
  {
   "cell_type": "markdown",
   "metadata": {},
   "source": [
    "#### Discrete Random Variables"
   ]
  },
  {
   "cell_type": "markdown",
   "metadata": {},
   "source": [
    "#### Continuous Random Variables"
   ]
  },
  {
   "cell_type": "markdown",
   "metadata": {},
   "source": [
    "### Probability Distributions"
   ]
  },
  {
   "cell_type": "markdown",
   "metadata": {},
   "source": [
    "### Frequentist Approach"
   ]
  },
  {
   "cell_type": "markdown",
   "metadata": {},
   "source": [
    "#### Shortcomings of frequentist approach"
   ]
  },
  {
   "cell_type": "markdown",
   "metadata": {},
   "source": [
    "### Bayesian Approach\n",
    "Paradoxes: https://en.wikipedia.org/wiki/Raven_paradox\n",
    "https://en.wikipedia.org/wiki/Bertrand_paradox_%28probability%29\n"
   ]
  },
  {
   "cell_type": "markdown",
   "metadata": {},
   "source": [
    "#### Shortcomings of Bayesian approach\n",
    "The issue of prior"
   ]
  },
  {
   "cell_type": "markdown",
   "metadata": {},
   "source": [
    "### Differences Between bayesian and frequentist approaches"
   ]
  },
  {
   "cell_type": "code",
   "execution_count": null,
   "metadata": {
    "collapsed": true
   },
   "outputs": [],
   "source": []
  }
 ],
 "metadata": {
  "kernelspec": {
   "display_name": "Python 3",
   "language": "python",
   "name": "python3"
  },
  "language_info": {
   "codemirror_mode": {
    "name": "ipython",
    "version": 3
   },
   "file_extension": ".py",
   "mimetype": "text/x-python",
   "name": "python",
   "nbconvert_exporter": "python",
   "pygments_lexer": "ipython3",
   "version": "3.4.3"
  }
 },
 "nbformat": 4,
 "nbformat_minor": 0
}
